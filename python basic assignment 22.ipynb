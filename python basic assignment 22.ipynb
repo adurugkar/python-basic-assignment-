{
 "cells": [
  {
   "cell_type": "markdown",
   "id": "792843ca",
   "metadata": {},
   "source": [
    "### 1. What is the result of the code, and explain?"
   ]
  },
  {
   "cell_type": "code",
   "execution_count": 2,
   "id": "d8491e67",
   "metadata": {},
   "outputs": [],
   "source": [
    "x='iNeuron'\n",
    "\n",
    "def func():\n",
    "    print(x)"
   ]
  },
  {
   "cell_type": "code",
   "execution_count": 3,
   "id": "b6314efa",
   "metadata": {},
   "outputs": [
    {
     "name": "stdout",
     "output_type": "stream",
     "text": [
      "iNeuron\n"
     ]
    }
   ],
   "source": [
    "func()"
   ]
  },
  {
   "cell_type": "markdown",
   "id": "775e4030",
   "metadata": {},
   "source": [
    "Here when func() is called it will execute the statment written inside it which print the value of x (x is gloable variable) whose value is assigned 'iNeuron'."
   ]
  },
  {
   "cell_type": "markdown",
   "id": "fcb49507",
   "metadata": {},
   "source": [
    "### 2. What is the result of the code, and explain?"
   ]
  },
  {
   "cell_type": "code",
   "execution_count": 4,
   "id": "c160c8ad",
   "metadata": {},
   "outputs": [],
   "source": [
    "x='iNeuron'\n",
    "\n",
    "def func():\n",
    "    x='NI!'"
   ]
  },
  {
   "cell_type": "code",
   "execution_count": 5,
   "id": "07af2b5e",
   "metadata": {},
   "outputs": [],
   "source": [
    "func()"
   ]
  },
  {
   "cell_type": "code",
   "execution_count": 6,
   "id": "7480edd8",
   "metadata": {},
   "outputs": [
    {
     "name": "stdout",
     "output_type": "stream",
     "text": [
      "iNeuron\n"
     ]
    }
   ],
   "source": [
    "print(x)"
   ]
  },
  {
   "cell_type": "markdown",
   "id": "d51fabe3",
   "metadata": {},
   "source": [
    "out side the function 'x' is global variable. it's  accessible inside the functions and out side the function is python. that's why,  when we print(x) it printed the global variable value. In side the function we define the value x it is not accessible out side the function ."
   ]
  },
  {
   "cell_type": "markdown",
   "id": "0ae1461e",
   "metadata": {},
   "source": [
    "### Q. What does this code print, and why?"
   ]
  },
  {
   "cell_type": "code",
   "execution_count": 8,
   "id": "5c2b6370",
   "metadata": {},
   "outputs": [
    {
     "name": "stdout",
     "output_type": "stream",
     "text": [
      "NI!\n",
      "iNeuron\n"
     ]
    }
   ],
   "source": [
    "X = 'iNeuron'\n",
    "def func():\n",
    "    X = 'NI!'\n",
    "    print(X)\n",
    "\n",
    "func()\n",
    "print(X)"
   ]
  },
  {
   "cell_type": "markdown",
   "id": "a5a1e6ed",
   "metadata": {},
   "source": [
    "We have defined the 'x' outside. 'x' is the global variable which can be used both inside and outside the function, but x we have defined inside the function is the local variable which can only be accessed inside the function.\n",
    "that's why when we print the 'x' so it's print the 'iNeuron' and when we called the func() it's print the 'NI!"
   ]
  },
  {
   "cell_type": "markdown",
   "id": "f68bdc69",
   "metadata": {},
   "source": [
    "### Q. What output does this code produce? Why?"
   ]
  },
  {
   "cell_type": "code",
   "execution_count": 9,
   "id": "4e22b586",
   "metadata": {},
   "outputs": [
    {
     "name": "stdout",
     "output_type": "stream",
     "text": [
      "NI!\n",
      "NI!\n"
     ]
    }
   ],
   "source": [
    "X = 'iNeuron'\n",
    "def func():\n",
    "    global X\n",
    "    X = 'NI!'\n",
    "    print(X)\n",
    "\n",
    "func()\n",
    "print(X)"
   ]
  },
  {
   "cell_type": "markdown",
   "id": "790fae19",
   "metadata": {},
   "source": [
    "x is global variable with the global key word it can modify inside the function , that's why when we print x and called the function so it's print the same value 'NI!'"
   ]
  },
  {
   "cell_type": "markdown",
   "id": "0b23e731",
   "metadata": {},
   "source": [
    "### Q. What about this code—what’s the output, and why?"
   ]
  },
  {
   "cell_type": "code",
   "execution_count": 10,
   "id": "c64864af",
   "metadata": {},
   "outputs": [
    {
     "name": "stdout",
     "output_type": "stream",
     "text": [
      "iNeuron\n"
     ]
    },
    {
     "data": {
      "text/plain": [
       "'iNeuron'"
      ]
     },
     "execution_count": 10,
     "metadata": {},
     "output_type": "execute_result"
    }
   ],
   "source": [
    "X = 'iNeuron'\n",
    "def func():\n",
    "    X = 'NI'\n",
    "def nested():\n",
    "    print(X)\n",
    "    \n",
    "nested()\n",
    "func()\n",
    "X"
   ]
  },
  {
   "cell_type": "markdown",
   "id": "eb15dfbf",
   "metadata": {},
   "source": [
    "x' is the global variable which can be used both inside and outside the function . in func() we defined the x local variable so it's accessible in the function only . we used the x inside the nested function whenever we called nested() it print the x value and when we called x  it's show the x value ."
   ]
  },
  {
   "cell_type": "code",
   "execution_count": 11,
   "id": "2445b1ea",
   "metadata": {},
   "outputs": [
    {
     "name": "stdout",
     "output_type": "stream",
     "text": [
      "spam\n"
     ]
    }
   ],
   "source": [
    "def func():\n",
    "    X = 'NI'\n",
    "    def nested():\n",
    "        nonlocal X\n",
    "        X = 'spam'\n",
    "    nested()\n",
    "    print(X)\n",
    "\n",
    "func()"
   ]
  },
  {
   "cell_type": "markdown",
   "id": "e33bef88",
   "metadata": {},
   "source": [
    "here nonlocal keyword is used to work with variables inside nested functions, where the variable should not belong to the inner function.\n"
   ]
  },
  {
   "cell_type": "code",
   "execution_count": null,
   "id": "d3d6311f",
   "metadata": {},
   "outputs": [],
   "source": []
  }
 ],
 "metadata": {
  "kernelspec": {
   "display_name": "Python 3 (ipykernel)",
   "language": "python",
   "name": "python3"
  },
  "language_info": {
   "codemirror_mode": {
    "name": "ipython",
    "version": 3
   },
   "file_extension": ".py",
   "mimetype": "text/x-python",
   "name": "python",
   "nbconvert_exporter": "python",
   "pygments_lexer": "ipython3",
   "version": "3.9.7"
  }
 },
 "nbformat": 4,
 "nbformat_minor": 5
}
