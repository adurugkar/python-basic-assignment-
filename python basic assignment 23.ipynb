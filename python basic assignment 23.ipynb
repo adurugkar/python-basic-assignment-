{
 "cells": [
  {
   "cell_type": "markdown",
   "id": "9a29c8e1",
   "metadata": {},
   "source": [
    "## Assignment_23"
   ]
  },
  {
   "cell_type": "markdown",
   "id": "4a712f6f",
   "metadata": {},
   "source": [
    "## 1. What is the result of the code, and why?"
   ]
  },
  {
   "cell_type": "code",
   "execution_count": 1,
   "id": "8ee42bb0",
   "metadata": {},
   "outputs": [],
   "source": [
    "def fun(a,b=6, c=8):\n",
    "    print(a,b,c)"
   ]
  },
  {
   "cell_type": "code",
   "execution_count": 2,
   "id": "d8c8f8d8",
   "metadata": {},
   "outputs": [
    {
     "name": "stdout",
     "output_type": "stream",
     "text": [
      "1 2 8\n"
     ]
    }
   ],
   "source": [
    "fun(1,2)"
   ]
  },
  {
   "cell_type": "markdown",
   "id": "e1e4a130",
   "metadata": {},
   "source": [
    "this function is taking a positional argument argument and 23 keyward argumnet. when function call m=is madeparameter passed are a=1, b=2 when the function is executed , parameter c=8 will be taken by default as itls a keyword argumne "
   ]
  },
  {
   "cell_type": "markdown",
   "id": "f3809e1a",
   "metadata": {},
   "source": [
    "## Q. What is the result of this code, and why? >>> def func(a, b, c=5): print(a, b, c) >>> func(1, c=3, b=2)"
   ]
  },
  {
   "cell_type": "code",
   "execution_count": 3,
   "id": "4aec2def",
   "metadata": {},
   "outputs": [
    {
     "name": "stdout",
     "output_type": "stream",
     "text": [
      "1 2 3\n"
     ]
    }
   ],
   "source": [
    "def func(a, b, c=5):\n",
    "    print(a, b, c)\n",
    "func(1, c=3, b=2)"
   ]
  },
  {
   "cell_type": "markdown",
   "id": "11979c68",
   "metadata": {},
   "source": [
    "When we make function call, order will be positional argument and then keywords arguments. we can pass the keyword arguments in any order we want.\n"
   ]
  },
  {
   "cell_type": "markdown",
   "id": "d4f970a9",
   "metadata": {},
   "source": [
    "## Q. How about this code: what is its result, and why? >>> def func(a, *pargs): print(a, pargs) >>> func(1, 2, 3)"
   ]
  },
  {
   "cell_type": "code",
   "execution_count": 4,
   "id": "a7ccad33",
   "metadata": {},
   "outputs": [
    {
     "name": "stdout",
     "output_type": "stream",
     "text": [
      "1 (2, 3)\n"
     ]
    }
   ],
   "source": [
    "def func(a, *pargs):\n",
    "    print(a, pargs)\n",
    "func(1, 2, 3)"
   ]
  },
  {
   "cell_type": "markdown",
   "id": "163c528b",
   "metadata": {},
   "source": [
    "he return type of *args parameter is tuple, where as **kargs will be dictionary"
   ]
  },
  {
   "cell_type": "markdown",
   "id": "18f22b2e",
   "metadata": {},
   "source": [
    "## Q. What does this code print, and why? >>> def func(a, **kargs): print(a, kargs) >>> func(a=1, c=3, b=2)"
   ]
  },
  {
   "cell_type": "code",
   "execution_count": 5,
   "id": "fbecd04a",
   "metadata": {},
   "outputs": [
    {
     "name": "stdout",
     "output_type": "stream",
     "text": [
      "1 {'c': 3, 'b': 2}\n"
     ]
    }
   ],
   "source": [
    "def func(a, **kargs):\n",
    "    print(a, kargs)\n",
    "func(a=1, c=3, b=2)"
   ]
  },
  {
   "cell_type": "markdown",
   "id": "3b9360c0",
   "metadata": {},
   "source": [
    "he return type of  **kargs is  dictionary"
   ]
  },
  {
   "cell_type": "markdown",
   "id": "6be34ec5",
   "metadata": {},
   "source": [
    "## Q. What gets printed by this, and explain? >>> def func(a, b, c=8, d=5): print(a, b, c, d) >>> func(1, *(5, 6))"
   ]
  },
  {
   "cell_type": "code",
   "execution_count": 6,
   "id": "662947fa",
   "metadata": {},
   "outputs": [
    {
     "name": "stdout",
     "output_type": "stream",
     "text": [
      "1 5 6 5\n"
     ]
    }
   ],
   "source": [
    "def func(a, b, c=8, d=5): \n",
    "    print(a, b, c, d)\n",
    "func(1, *(5, 6))"
   ]
  },
  {
   "cell_type": "markdown",
   "id": "9e619d5a",
   "metadata": {},
   "source": [
    "'*' is the unpacking operator and are operators that unpack the values from iterable objects in Python. The single \n",
    "asterisk operator * can be used on any iterable that Python provides, while the double asterisk operator ** can only \n",
    " be used on dictionaries. In the example the value *(5,6) will be unpacked and will be assigned to b and c and passed \n",
    " as arguments, d =5 will taken by defaults are keyword arguments."
   ]
  },
  {
   "cell_type": "markdown",
   "id": "1b1ff401",
   "metadata": {},
   "source": [
    "## Q. what is the result of this, and explain? >>> def func(a, b, c): a = 2; b[0] = 'x'; c['a'] = 'y' >>> l=1; m=[1]; n={'a':0} >>> func(l, m, n)"
   ]
  },
  {
   "cell_type": "code",
   "execution_count": 7,
   "id": "03c9a2c5",
   "metadata": {},
   "outputs": [
    {
     "data": {
      "text/plain": [
       "(1, ['x'], {'a': 'y'})"
      ]
     },
     "execution_count": 7,
     "metadata": {},
     "output_type": "execute_result"
    }
   ],
   "source": [
    "def func(a, b, c): \n",
    "    a = 2; b[0] = 'x'; c['a'] = 'y'\n",
    "    \n",
    "l=1; m=[1]; n={'a':0}\n",
    "func(l, m, n)\n",
    "\n",
    "l, m, n"
   ]
  },
  {
   "cell_type": "markdown",
   "id": "28b75794",
   "metadata": {},
   "source": [
    "Here in the code, the list and dict are passed as argument, and those are mutable. Here the list l and parameter b point \n",
    "to the same list in the memory location where as dict n and c point to the same memory location. Any updates to this \n",
    "list will update in the memory location\n",
    "l = 1 , integer values, immutable, m is list, mutable, n is dict, mutable."
   ]
  },
  {
   "cell_type": "code",
   "execution_count": null,
   "id": "5733adcc",
   "metadata": {},
   "outputs": [],
   "source": []
  }
 ],
 "metadata": {
  "kernelspec": {
   "display_name": "Python 3 (ipykernel)",
   "language": "python",
   "name": "python3"
  },
  "language_info": {
   "codemirror_mode": {
    "name": "ipython",
    "version": 3
   },
   "file_extension": ".py",
   "mimetype": "text/x-python",
   "name": "python",
   "nbconvert_exporter": "python",
   "pygments_lexer": "ipython3",
   "version": "3.9.7"
  }
 },
 "nbformat": 4,
 "nbformat_minor": 5
}
