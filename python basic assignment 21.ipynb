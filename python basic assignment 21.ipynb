{
 "cells": [
  {
   "cell_type": "markdown",
   "id": "5376cba3",
   "metadata": {},
   "source": [
    "### Q. Add the current date to the text file today.txt as a string."
   ]
  },
  {
   "cell_type": "code",
   "execution_count": 55,
   "id": "fa7a407e",
   "metadata": {},
   "outputs": [],
   "source": [
    "from datetime import date\n",
    "file=open('today.txt','w')\n",
    "now=date.today()\n",
    "today_date=now.isoformat()\n",
    "file.write(today_date)\n",
    "file.close()"
   ]
  },
  {
   "cell_type": "markdown",
   "id": "3ac77f6c",
   "metadata": {},
   "source": [
    "### Q. Read the text file today.txt into the string today_string"
   ]
  },
  {
   "cell_type": "code",
   "execution_count": 56,
   "id": "28e93a61",
   "metadata": {},
   "outputs": [
    {
     "data": {
      "text/plain": [
       "'2022-01-30'"
      ]
     },
     "execution_count": 56,
     "metadata": {},
     "output_type": "execute_result"
    }
   ],
   "source": [
    "with open('today.txt','r') as file:\n",
    "    today_string=file.read()\n",
    "today_string"
   ]
  },
  {
   "cell_type": "markdown",
   "id": "9c969c53",
   "metadata": {},
   "source": [
    "### Q. Parse the date from today_string."
   ]
  },
  {
   "cell_type": "code",
   "execution_count": 58,
   "id": "6db1ab95",
   "metadata": {},
   "outputs": [
    {
     "data": {
      "text/plain": [
       "datetime.datetime(2022, 1, 30, 0, 0)"
      ]
     },
     "execution_count": 58,
     "metadata": {},
     "output_type": "execute_result"
    }
   ],
   "source": [
    "from datetime import datetime\n",
    "datetime.strptime(today_string,'%Y-%m-%d')"
   ]
  },
  {
   "cell_type": "markdown",
   "id": "0b4a01f5",
   "metadata": {},
   "source": [
    "### Q. List the files in your current directory"
   ]
  },
  {
   "cell_type": "code",
   "execution_count": 59,
   "id": "068423d3",
   "metadata": {
    "scrolled": true
   },
   "outputs": [
    {
     "data": {
      "text/plain": [
       "['.ipynb_checkpoints',\n",
       " 'assignment 21.ipynb',\n",
       " 'pyinputplus001.ipynb',\n",
       " 'scr.txt',\n",
       " 'test.txt',\n",
       " 'today.txt',\n",
       " 'Untitled.ipynb',\n",
       " 'Untitled1.ipynb',\n",
       " '__pycache__']"
      ]
     },
     "execution_count": 59,
     "metadata": {},
     "output_type": "execute_result"
    }
   ],
   "source": [
    "import os\n",
    "os.listdir('.')"
   ]
  },
  {
   "cell_type": "markdown",
   "id": "dc19464d",
   "metadata": {},
   "source": [
    "### Q. Use multiprocessing to create three separate processes. Make each one wait a random number of seconds between one and five, print the current time, and then exit."
   ]
  },
  {
   "cell_type": "code",
   "execution_count": 104,
   "id": "6253a60b",
   "metadata": {},
   "outputs": [],
   "source": [
    "import multiprocessing\n",
    "\n",
    "def printsec(seconds):\n",
    "    from datetime import datetime\n",
    "    from time import sleep\n",
    "    sleep(seconds)\n",
    "    print('wait', seconds, 'seconds, time is', datetime.utcnow())\n",
    "    \n",
    "if __name__ == '__main__':\n",
    "    import random    \n",
    "    for n in range(3):\n",
    "        seconds = random.random()\n",
    "        proc = multiprocessing.Process(target=printsec,args=(f'))\n",
    "        proc.start()\n",
    "        proc.join()"
   ]
  },
  {
   "cell_type": "markdown",
   "id": "f317b9a6",
   "metadata": {},
   "source": [
    "### Q. Create a date object of your day of birth"
   ]
  },
  {
   "cell_type": "code",
   "execution_count": 117,
   "id": "37069f80",
   "metadata": {},
   "outputs": [
    {
     "data": {
      "text/plain": [
       "datetime.date(1995, 2, 4)"
      ]
     },
     "execution_count": 117,
     "metadata": {},
     "output_type": "execute_result"
    }
   ],
   "source": [
    "my_birth=date(1995,2,4)\n",
    "my_birth"
   ]
  },
  {
   "cell_type": "markdown",
   "id": "5901c71b",
   "metadata": {},
   "source": [
    "### Q. What day of the week was your day of birth?"
   ]
  },
  {
   "cell_type": "code",
   "execution_count": 125,
   "id": "96b084d5",
   "metadata": {},
   "outputs": [
    {
     "data": {
      "text/plain": [
       "5"
      ]
     },
     "execution_count": 125,
     "metadata": {},
     "output_type": "execute_result"
    }
   ],
   "source": [
    "my_birth.weekday()"
   ]
  },
  {
   "cell_type": "markdown",
   "id": "77396e16",
   "metadata": {},
   "source": [
    "### Q. When will you be (or when were you) 10,000 days old?"
   ]
  },
  {
   "cell_type": "code",
   "execution_count": 126,
   "id": "5e774963",
   "metadata": {},
   "outputs": [
    {
     "data": {
      "text/plain": [
       "datetime.date(2022, 6, 22)"
      ]
     },
     "execution_count": 126,
     "metadata": {},
     "output_type": "execute_result"
    }
   ],
   "source": [
    "from datetime import timedelta\n",
    "day=my_birth+timedelta(days=10000)\n",
    "day"
   ]
  }
 ],
 "metadata": {
  "kernelspec": {
   "display_name": "Python 3 (ipykernel)",
   "language": "python",
   "name": "python3"
  },
  "language_info": {
   "codemirror_mode": {
    "name": "ipython",
    "version": 3
   },
   "file_extension": ".py",
   "mimetype": "text/x-python",
   "name": "python",
   "nbconvert_exporter": "python",
   "pygments_lexer": "ipython3",
   "version": "3.9.7"
  }
 },
 "nbformat": 4,
 "nbformat_minor": 5
}
